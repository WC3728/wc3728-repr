{
 "cells": [
  {
   "cell_type": "code",
   "execution_count": 10,
   "metadata": {},
   "outputs": [
    {
     "name": "stdout",
     "output_type": "stream",
     "text": [
      "{'name': 'zhangsan', 'age': 18} <class 'str'>\n",
      "{'name': 'zhangsan', 'age': 18} <class 'str'>\n",
      "{\"name\": \"zhangsan\", \"age\": 18} <class 'str'>\n",
      "zhangsan\",\n"
     ]
    }
   ],
   "source": [
    "import json \n",
    "file = open('person.txt','w',encoding='utf8')\n",
    "\n",
    "person = {'name':'zhangsan','age':18}\n",
    "\n",
    "nums = [1,2,3,4]\n",
    "#  1 将一个对象转化成字符窜\n",
    "x = repr(person)\n",
    "print(x,type(x))\n",
    "# 内置 str 类 转化成字符串\n",
    "y = str(person)\n",
    "print(y,type(y))\n",
    "\n",
    "#3 方法，可以将一个对象转换成为 json 字符串\n",
    "z = json.dumps(person)\n",
    "print(z,type(z))\n",
    "#4 方法，可以将一个对象转换成为 json 字符串并直接写入到一个文件\n",
    "json.dump(person,file)\n",
    "\n",
    "# file.write(person)\n",
    "file.close()\n"
   ]
  },
  {
   "cell_type": "code",
   "execution_count": null,
   "metadata": {},
   "outputs": [],
   "source": []
  }
 ],
 "metadata": {
  "kernelspec": {
   "display_name": "Python 3",
   "language": "python",
   "name": "python3"
  },
  "language_info": {
   "codemirror_mode": {
    "name": "ipython",
    "version": 3
   },
   "file_extension": ".py",
   "mimetype": "text/x-python",
   "name": "python",
   "nbconvert_exporter": "python",
   "pygments_lexer": "ipython3",
   "version": "3.7.4"
  }
 },
 "nbformat": 4,
 "nbformat_minor": 4
}
