{
 "cells": [
  {
   "cell_type": "code",
   "execution_count": 40,
   "metadata": {},
   "outputs": [],
   "source": [
    "import random,math,os,time,datetime,calendar,uuid,json"
   ]
  },
  {
   "cell_type": "code",
   "execution_count": 2,
   "metadata": {},
   "outputs": [
    {
     "name": "stdout",
     "output_type": "stream",
     "text": [
      "0.871584321244786\n"
     ]
    }
   ],
   "source": [
    "#  生成[0,1)的随机浮点数\n",
    "print(random.random())  "
   ]
  },
  {
   "cell_type": "code",
   "execution_count": 3,
   "metadata": {},
   "outputs": [
    {
     "name": "stdout",
     "output_type": "stream",
     "text": [
      "good\n"
     ]
    }
   ],
   "source": [
    "print(random.choice(['good','hello','yes','lucky']))"
   ]
  },
  {
   "cell_type": "code",
   "execution_count": 4,
   "metadata": {},
   "outputs": [
    {
     "name": "stdout",
     "output_type": "stream",
     "text": [
      "['good', 'lucky']\n"
     ]
    }
   ],
   "source": [
    "print(random.sample(['good','hello','yes','lucky'],2))"
   ]
  },
  {
   "cell_type": "code",
   "execution_count": 8,
   "metadata": {},
   "outputs": [
    {
     "name": "stdout",
     "output_type": "stream",
     "text": [
      "27\n",
      "25\n"
     ]
    }
   ],
   "source": [
    "# [m,n]\n",
    "print(random.randint(20,30)) \n",
    "#  [m,n-1]\n",
    "print(random.randrange(20,30))"
   ]
  },
  {
   "cell_type": "code",
   "execution_count": 9,
   "metadata": {},
   "outputs": [
    {
     "name": "stdout",
     "output_type": "stream",
     "text": [
      "['beety', 'zhangsan', 'wangwu', 'lisi']\n"
     ]
    }
   ],
   "source": [
    "names = ['zhangsan','lisi','wangwu','beety']\n",
    "\n",
    "random.shuffle(names)\n",
    "print(names)"
   ]
  },
  {
   "cell_type": "code",
   "execution_count": 10,
   "metadata": {},
   "outputs": [
    {
     "name": "stdout",
     "output_type": "stream",
     "text": [
      "10.0\n"
     ]
    }
   ],
   "source": [
    "print(math.fabs(-10))"
   ]
  },
  {
   "cell_type": "code",
   "execution_count": 11,
   "metadata": {},
   "outputs": [
    {
     "name": "stdout",
     "output_type": "stream",
     "text": [
      "120\n"
     ]
    }
   ],
   "source": [
    "# math .  (fabs, sin, ceil , floor , pow , factorial(阶乘运算))\n",
    "\n",
    "print(math.factorial(5))"
   ]
  },
  {
   "cell_type": "code",
   "execution_count": 19,
   "metadata": {},
   "outputs": [
    {
     "name": "stdout",
     "output_type": "stream",
     "text": [
      ".ipynb_checkpoints\n",
      "demo.txt\n",
      "p.txt\n",
      "person.txt\n",
      "timg.jpg\n",
      "反序列化.ipynb\n",
      "常见模块的使用.ipynb\n",
      "序列化变为二进制的方式.ipynb\n",
      "序列化和反序列化.ipynb\n",
      "文件的读写.ipynb\n"
     ]
    }
   ],
   "source": [
    "# os  OperationSystem 操作系统模块\n",
    "x = os.listdir()\n",
    "# 将列表元素换行输出\n",
    "print('\\n'.join(x))"
   ]
  },
  {
   "cell_type": "code",
   "execution_count": 20,
   "metadata": {},
   "outputs": [],
   "source": [
    "# 返回上一级目录\n",
    "os.chdir('../')"
   ]
  },
  {
   "cell_type": "code",
   "execution_count": 21,
   "metadata": {},
   "outputs": [
    {
     "name": "stdout",
     "output_type": "stream",
     "text": [
      ".ipynb_checkpoints\n",
      "test.ipynb\n",
      "序列化和反序列化\n",
      "文件操作\n"
     ]
    }
   ],
   "source": [
    "print('\\n'.join(os.listdir()))"
   ]
  },
  {
   "cell_type": "code",
   "execution_count": 22,
   "metadata": {},
   "outputs": [
    {
     "name": "stdout",
     "output_type": "stream",
     "text": [
      "nt\n"
     ]
    }
   ],
   "source": [
    "print(os.name)"
   ]
  },
  {
   "cell_type": "code",
   "execution_count": 24,
   "metadata": {},
   "outputs": [],
   "source": [
    "os.chdir('./序列化和反序列化')"
   ]
  },
  {
   "cell_type": "code",
   "execution_count": 26,
   "metadata": {},
   "outputs": [],
   "source": [
    "file_path = 'p.txt'\n"
   ]
  },
  {
   "cell_type": "code",
   "execution_count": 28,
   "metadata": {},
   "outputs": [],
   "source": [
    "if os.path.exists(file_path):\n",
    "    os.remove(file_path)\n",
    "if not os.path.exists('demo'):\n",
    "    os.mkdir('demo')\n"
   ]
  },
  {
   "cell_type": "code",
   "execution_count": 29,
   "metadata": {},
   "outputs": [
    {
     "name": "stdout",
     "output_type": "stream",
     "text": [
      "F:\\program files\\jupyter notebook\\序列化和反序列化\n"
     ]
    }
   ],
   "source": [
    "# 返回当前工作目录\n",
    "print(os.getcwd())"
   ]
  },
  {
   "cell_type": "code",
   "execution_count": 43,
   "metadata": {},
   "outputs": [
    {
     "name": "stdout",
     "output_type": "stream",
     "text": [
      "{\n",
      " \"ALLUSERSPROFILE\": \"C:\\\\ProgramData\",\n",
      " \"APPDATA\": \"C:\\\\Users\\\\WangC3728\\\\AppData\\\\Roaming\",\n",
      " \"CLASSPATH\": \".;G:\\\\Program Files\\\\Java\\\\jdk1.8.0_202\\\\lib;G:\\\\Program Files\\\\Java\\\\jdk1.8.0_202\\\\lib\\\\tools.jar\",\n",
      " \"COMMONPROGRAMFILES\": \"C:\\\\Program Files\\\\Common Files\",\n",
      " \"COMMONPROGRAMFILES(X86)\": \"C:\\\\Program Files (x86)\\\\Common Files\",\n",
      " \"COMMONPROGRAMW6432\": \"C:\\\\Program Files\\\\Common Files\",\n",
      " \"COMPUTERNAME\": \"DESKTOP-4BOBN3O\",\n",
      " \"COMSPEC\": \"C:\\\\WINDOWS\\\\system32\\\\cmd.exe\",\n",
      " \"DRIVERDATA\": \"C:\\\\Windows\\\\System32\\\\Drivers\\\\DriverData\",\n",
      " \"FPS_BROWSER_APP_PROFILE_STRING\": \"Internet Explorer\",\n",
      " \"FPS_BROWSER_USER_PROFILE_STRING\": \"Default\",\n",
      " \"GOPATH\": \"G:\\\\GoPath\",\n",
      " \"GOPROXY\": \"https://goproxy.cn,direct\",\n",
      " \"GOPYTHON\": \"http://pypi.douban.com/simple\",\n",
      " \"HOMEDRIVE\": \"C:\",\n",
      " \"HOMEPATH\": \"\\\\Users\\\\WangC3728\",\n",
      " \"INTELLIJ IDEA\": \"G:\\\\Program Files\\\\JetBrains\\\\IntelliJ IDEA 2019.3.3\\\\bin;\",\n",
      " \"JAVAHOME\": \"G:\\\\Program Files\\\\Java\\\\jdk1.8.0_202\",\n",
      " \"LOCALAPPDATA\": \"C:\\\\Users\\\\WangC3728\\\\AppData\\\\Local\",\n",
      " \"LOGONSERVER\": \"\\\\\\\\DESKTOP-4BOBN3O\",\n",
      " \"NODE_PATH\": \"G:\\\\Program Files\\\\nodejs\\\\node_cache\\\\node_modules\",\n",
      " \"NUMBER_OF_PROCESSORS\": \"4\",\n",
      " \"ONEDRIVE\": \"C:\\\\Users\\\\WangC3728\\\\OneDrive\",\n",
      " \"OS\": \"Windows_NT\",\n",
      " \"PATH\": \"g:\\\\program files (x86)\\\\python37\\\\lib\\\\site-packages\\\\pywin32_system32;C:\\\\WINDOWS\\\\system32;C:\\\\WINDOWS;C:\\\\WINDOWS\\\\System32\\\\Wbem;C:\\\\WINDOWS\\\\System32\\\\WindowsPowerShell\\\\v1.0\\\\;C:\\\\WINDOWS\\\\System32\\\\OpenSSH\\\\;G:\\\\Program Files\\\\mysql-5.7.28-winx64\\\\bin;C:\\\\Program Files (x86)\\\\Common Files\\\\Oracle\\\\Java\\\\javapath;G:\\\\Program Files\\\\Microsoft VS Code\\\\bin;G:\\\\Program Files (x86)\\\\Python37\\\\;G:\\\\Program Files (x86)\\\\Python37\\\\Scripts\\\\;G:\\\\Portable Files\\\\mingw64\\\\bin;G:\\\\Program Files\\\\Go\\\\bin;G:\\\\GoPath\\\\bin;G:\\\\Program Files\\\\Git\\\\cmd;F:\\\\goyard\\\\sorter\\\\bin;C:\\\\Program Files\\\\TortoiseSVN\\\\bin;G:\\\\Program Files\\\\Python\\\\sqlmap;G:\\\\Program Files\\\\Java\\\\jdk1.8.0_202\\\\bin;G:\\\\Program Files\\\\Java\\\\jdk1.8.0_202;G:\\\\Program Files\\\\nodejs\\\\;G:\\\\MATLAB\\\\R2016b\\\\runtime\\\\win64;G:\\\\MATLAB\\\\R2016b\\\\bin;G:\\\\MATLAB\\\\R2016b\\\\polyspace\\\\bin;C:\\\\Users\\\\WangC3728\\\\AppData\\\\Local\\\\Microsoft\\\\WindowsApps;C:\\\\Users\\\\WangC3728\\\\go\\\\bin;G:\\\\Program Files\\\\JetBrains\\\\IntelliJ IDEA 2019.3.3\\\\bin;;G:\\\\Program Files\\\\JetBrains\\\\PyCharm Community Edition 2019.3.4\\\\bin;;C:\\\\Users\\\\WangC3728\\\\AppData\\\\Roaming\\\\npm;\",\n",
      " \"PATHEXT\": \".COM;.EXE;.BAT;.CMD;.VBS;.VBE;.JS;.JSE;.WSF;.WSH;.MSC;.PY;.PYW\",\n",
      " \"PROCESSOR_ARCHITECTURE\": \"AMD64\",\n",
      " \"PROCESSOR_IDENTIFIER\": \"Intel64 Family 6 Model 158 Stepping 9, GenuineIntel\",\n",
      " \"PROCESSOR_LEVEL\": \"6\",\n",
      " \"PROCESSOR_REVISION\": \"9e09\",\n",
      " \"PROGRAMDATA\": \"C:\\\\ProgramData\",\n",
      " \"PROGRAMFILES\": \"C:\\\\Program Files\",\n",
      " \"PROGRAMFILES(X86)\": \"C:\\\\Program Files (x86)\",\n",
      " \"PROGRAMW6432\": \"C:\\\\Program Files\",\n",
      " \"PROMPT\": \"$P$G\",\n",
      " \"PSMODULEPATH\": \"C:\\\\Program Files\\\\WindowsPowerShell\\\\Modules;C:\\\\WINDOWS\\\\system32\\\\WindowsPowerShell\\\\v1.0\\\\Modules\",\n",
      " \"PUBLIC\": \"C:\\\\Users\\\\Public\",\n",
      " \"PYCHARM COMMUNITY EDITION\": \"G:\\\\Program Files\\\\JetBrains\\\\PyCharm Community Edition 2019.3.4\\\\bin;\",\n",
      " \"SESSIONNAME\": \"Console\",\n",
      " \"SYSTEMDRIVE\": \"C:\",\n",
      " \"SYSTEMROOT\": \"C:\\\\WINDOWS\",\n",
      " \"TEMP\": \"C:\\\\Users\\\\WANGC3~1\\\\AppData\\\\Local\\\\Temp\",\n",
      " \"TMP\": \"C:\\\\Users\\\\WANGC3~1\\\\AppData\\\\Local\\\\Temp\",\n",
      " \"USERDOMAIN\": \"DESKTOP-4BOBN3O\",\n",
      " \"USERDOMAIN_ROAMINGPROFILE\": \"DESKTOP-4BOBN3O\",\n",
      " \"USERNAME\": \"WangC3728\",\n",
      " \"USERPROFILE\": \"C:\\\\Users\\\\WangC3728\",\n",
      " \"WINDIR\": \"C:\\\\WINDOWS\",\n",
      " \"JPY_INTERRUPT_EVENT\": \"3492\",\n",
      " \"IPY_INTERRUPT_EVENT\": \"3492\",\n",
      " \"JPY_PARENT_PID\": \"3460\",\n",
      " \"TERM\": \"xterm-color\",\n",
      " \"CLICOLOR\": \"1\",\n",
      " \"PAGER\": \"cat\",\n",
      " \"GIT_PAGER\": \"cat\",\n",
      " \"MPLBACKEND\": \"module://ipykernel.pylab.backend_inline\"\n",
      "}\n",
      "<class 'os._Environ'>\n"
     ]
    }
   ],
   "source": [
    "# os.rename('person.txt','per.txt')   文件从命名\n",
    "# os.environ\n",
    "# print('\\n'.join(os.environ))\n",
    "print(json.dumps(dict(os.environ),indent=1))\n",
    "print(type(os.environ))"
   ]
  },
  {
   "cell_type": "code",
   "execution_count": 44,
   "metadata": {},
   "outputs": [
    {
     "name": "stdout",
     "output_type": "stream",
     "text": [
      "WangC3728\n"
     ]
    }
   ],
   "source": [
    "print(os.environ['USERNAME'])"
   ]
  },
  {
   "cell_type": "code",
   "execution_count": 45,
   "metadata": {},
   "outputs": [
    {
     "name": "stdout",
     "output_type": "stream",
     "text": [
      "('2020.09.02.14.39', '.txt')\n"
     ]
    }
   ],
   "source": [
    "# exists:用来判断文件或者文件夹是否存在\n",
    "# isdir: 用来判断是否是文件夹\n",
    "# isfile: 用来判断是否是文件\n",
    "# abspath: 获取绝对路径\n",
    "# splitext: 用来分割文件名和后缀名\n",
    "print(os.path.splitext('2020.09.02.14.39.txt'))  # rpartition"
   ]
  },
  {
   "cell_type": "code",
   "execution_count": 47,
   "metadata": {},
   "outputs": [
    {
     "data": {
      "text/plain": [
       "list"
      ]
     },
     "execution_count": 47,
     "metadata": {},
     "output_type": "execute_result"
    }
   ],
   "source": [
    "type(dir(os))"
   ]
  },
  {
   "cell_type": "code",
   "execution_count": 48,
   "metadata": {},
   "outputs": [
    {
     "name": "stdout",
     "output_type": "stream",
     "text": [
      "DirEntry\n",
      "F_OK\n",
      "MutableMapping\n",
      "O_APPEND\n",
      "O_BINARY\n",
      "O_CREAT\n",
      "O_EXCL\n",
      "O_NOINHERIT\n",
      "O_RANDOM\n",
      "O_RDONLY\n",
      "O_RDWR\n",
      "O_SEQUENTIAL\n",
      "O_SHORT_LIVED\n",
      "O_TEMPORARY\n",
      "O_TEXT\n",
      "O_TRUNC\n",
      "O_WRONLY\n",
      "P_DETACH\n",
      "P_NOWAIT\n",
      "P_NOWAITO\n",
      "P_OVERLAY\n",
      "P_WAIT\n",
      "PathLike\n",
      "R_OK\n",
      "SEEK_CUR\n",
      "SEEK_END\n",
      "SEEK_SET\n",
      "TMP_MAX\n",
      "W_OK\n",
      "X_OK\n",
      "_Environ\n",
      "__all__\n",
      "__builtins__\n",
      "__cached__\n",
      "__doc__\n",
      "__file__\n",
      "__loader__\n",
      "__name__\n",
      "__package__\n",
      "__spec__\n",
      "_execvpe\n",
      "_exists\n",
      "_exit\n",
      "_fspath\n",
      "_get_exports_list\n",
      "_putenv\n",
      "_unsetenv\n",
      "_wrap_close\n",
      "abc\n",
      "abort\n",
      "access\n",
      "altsep\n",
      "chdir\n",
      "chmod\n",
      "close\n",
      "closerange\n",
      "cpu_count\n",
      "curdir\n",
      "defpath\n",
      "device_encoding\n",
      "devnull\n",
      "dup\n",
      "dup2\n",
      "environ\n",
      "error\n",
      "execl\n",
      "execle\n",
      "execlp\n",
      "execlpe\n",
      "execv\n",
      "execve\n",
      "execvp\n",
      "execvpe\n",
      "extsep\n",
      "fdopen\n",
      "fsdecode\n",
      "fsencode\n",
      "fspath\n",
      "fstat\n",
      "fsync\n",
      "ftruncate\n",
      "get_exec_path\n",
      "get_handle_inheritable\n",
      "get_inheritable\n",
      "get_terminal_size\n",
      "getcwd\n",
      "getcwdb\n",
      "getenv\n",
      "getlogin\n",
      "getpid\n",
      "getppid\n",
      "isatty\n",
      "kill\n",
      "linesep\n",
      "link\n",
      "listdir\n",
      "lseek\n",
      "lstat\n",
      "makedirs\n",
      "mkdir\n",
      "name\n",
      "open\n",
      "pardir\n",
      "path\n",
      "pathsep\n",
      "pipe\n",
      "popen\n",
      "putenv\n",
      "read\n",
      "readlink\n",
      "remove\n",
      "removedirs\n",
      "rename\n",
      "renames\n",
      "replace\n",
      "rmdir\n",
      "scandir\n",
      "sep\n",
      "set_handle_inheritable\n",
      "set_inheritable\n",
      "spawnl\n",
      "spawnle\n",
      "spawnv\n",
      "spawnve\n",
      "st\n",
      "startfile\n",
      "stat\n",
      "stat_result\n",
      "statvfs_result\n",
      "strerror\n",
      "supports_bytes_environ\n",
      "supports_dir_fd\n",
      "supports_effective_ids\n",
      "supports_fd\n",
      "supports_follow_symlinks\n",
      "symlink\n",
      "sys\n",
      "system\n",
      "terminal_size\n",
      "times\n",
      "times_result\n",
      "truncate\n",
      "umask\n",
      "uname_result\n",
      "unlink\n",
      "urandom\n",
      "utime\n",
      "waitpid\n",
      "walk\n",
      "write\n"
     ]
    }
   ],
   "source": [
    "print('\\n'.join(dir(os)))"
   ]
  },
  {
   "cell_type": "code",
   "execution_count": 52,
   "metadata": {},
   "outputs": [
    {
     "name": "stdout",
     "output_type": "stream",
     "text": [
      "__all__\n",
      "__builtins__\n",
      "__cached__\n",
      "__doc__\n",
      "__file__\n",
      "__loader__\n",
      "__name__\n",
      "__package__\n",
      "__spec__\n",
      "_abspath_fallback\n",
      "_get_bothseps\n",
      "_getfinalpathname\n",
      "_getfullpathname\n",
      "_getvolumepathname\n",
      "abspath\n",
      "altsep\n",
      "basename\n",
      "commonpath\n",
      "commonprefix\n",
      "curdir\n",
      "defpath\n",
      "devnull\n",
      "dirname\n",
      "exists\n",
      "expanduser\n",
      "expandvars\n",
      "extsep\n",
      "genericpath\n",
      "getatime\n",
      "getctime\n",
      "getmtime\n",
      "getsize\n",
      "isabs\n",
      "isdir\n",
      "isfile\n",
      "islink\n",
      "ismount\n",
      "join\n",
      "lexists\n",
      "normcase\n",
      "normpath\n",
      "os\n",
      "pardir\n",
      "pathsep\n",
      "realpath\n",
      "relpath\n",
      "samefile\n",
      "sameopenfile\n",
      "samestat\n",
      "sep\n",
      "split\n",
      "splitdrive\n",
      "splitext\n",
      "stat\n",
      "supports_unicode_filenames\n",
      "sys\n"
     ]
    }
   ],
   "source": [
    "print('\\n'.join(list(dir(os.path))))"
   ]
  },
  {
   "cell_type": "code",
   "execution_count": 53,
   "metadata": {},
   "outputs": [
    {
     "name": "stdout",
     "output_type": "stream",
     "text": [
      "4\n"
     ]
    }
   ],
   "source": [
    "# 处理器个数\n",
    "print(os.cpu_count())"
   ]
  },
  {
   "cell_type": "code",
   "execution_count": 54,
   "metadata": {},
   "outputs": [
    {
     "name": "stdout",
     "output_type": "stream",
     "text": [
      "\\\n"
     ]
    }
   ],
   "source": [
    "print(os.path.sep)"
   ]
  },
  {
   "cell_type": "code",
   "execution_count": 55,
   "metadata": {},
   "outputs": [
    {
     "name": "stdout",
     "output_type": "stream",
     "text": [
      "2020-09-02\n"
     ]
    }
   ],
   "source": [
    "#  date   日期\n",
    "# datetime 日期时间\n",
    "#time  时间\n",
    "# timedelta  日期计算  \n",
    "print(datetime.date(2020,9,2))"
   ]
  },
  {
   "cell_type": "code",
   "execution_count": 56,
   "metadata": {},
   "outputs": [
    {
     "name": "stdout",
     "output_type": "stream",
     "text": [
      "Wed Sep  2 00:00:00 2020\n"
     ]
    }
   ],
   "source": [
    "print(datetime.date(2020,9,2).ctime())"
   ]
  },
  {
   "cell_type": "code",
   "execution_count": 58,
   "metadata": {},
   "outputs": [
    {
     "name": "stdout",
     "output_type": "stream",
     "text": [
      "2\n"
     ]
    }
   ],
   "source": [
    "# 月的第几天\n",
    "print(datetime.date(2020,9,2).day)"
   ]
  },
  {
   "cell_type": "code",
   "execution_count": 59,
   "metadata": {},
   "outputs": [
    {
     "name": "stdout",
     "output_type": "stream",
     "text": [
      "9\n"
     ]
    }
   ],
   "source": [
    "print(datetime.date(2020,9,2).month)"
   ]
  },
  {
   "cell_type": "code",
   "execution_count": 60,
   "metadata": {},
   "outputs": [
    {
     "name": "stdout",
     "output_type": "stream",
     "text": [
      "2020\n"
     ]
    }
   ],
   "source": [
    "print(datetime.date(2020,9,2).year)"
   ]
  },
  {
   "cell_type": "code",
   "execution_count": 61,
   "metadata": {},
   "outputs": [],
   "source": [
    "td = datetime.date.today()"
   ]
  },
  {
   "cell_type": "code",
   "execution_count": 62,
   "metadata": {},
   "outputs": [
    {
     "name": "stdout",
     "output_type": "stream",
     "text": [
      "2020-09-02\n"
     ]
    }
   ],
   "source": [
    "print(td)"
   ]
  },
  {
   "cell_type": "code",
   "execution_count": 64,
   "metadata": {},
   "outputs": [],
   "source": [
    "now = datetime.datetime.now()"
   ]
  },
  {
   "cell_type": "code",
   "execution_count": 65,
   "metadata": {},
   "outputs": [
    {
     "name": "stdout",
     "output_type": "stream",
     "text": [
      "2020-09-02 22:26:29.335745\n"
     ]
    }
   ],
   "source": [
    "print(now)"
   ]
  },
  {
   "cell_type": "code",
   "execution_count": 66,
   "metadata": {},
   "outputs": [
    {
     "name": "stdout",
     "output_type": "stream",
     "text": [
      "26 29 335745\n"
     ]
    }
   ],
   "source": [
    "print(now.minute,now.second,now.microsecond)"
   ]
  },
  {
   "cell_type": "code",
   "execution_count": 67,
   "metadata": {},
   "outputs": [
    {
     "name": "stdout",
     "output_type": "stream",
     "text": [
      "2020-09-02\n"
     ]
    }
   ],
   "source": [
    "print(now.date())"
   ]
  },
  {
   "cell_type": "code",
   "execution_count": 68,
   "metadata": {},
   "outputs": [
    {
     "name": "stdout",
     "output_type": "stream",
     "text": [
      "22:26:29.335745\n"
     ]
    }
   ],
   "source": [
    "print(now.time())"
   ]
  },
  {
   "cell_type": "code",
   "execution_count": 69,
   "metadata": {},
   "outputs": [
    {
     "name": "stdout",
     "output_type": "stream",
     "text": [
      "2020-12-11 22:26:29.335745\n"
     ]
    }
   ],
   "source": [
    "print(now + datetime.timedelta(days = 100))"
   ]
  },
  {
   "cell_type": "code",
   "execution_count": 70,
   "metadata": {},
   "outputs": [
    {
     "name": "stdout",
     "output_type": "stream",
     "text": [
      "                                  2020\n",
      "\n",
      "      January                   February                   March\n",
      "Mo Tu We Th Fr Sa Su      Mo Tu We Th Fr Sa Su      Mo Tu We Th Fr Sa Su\n",
      "       1  2  3  4  5                      1  2                         1\n",
      " 6  7  8  9 10 11 12       3  4  5  6  7  8  9       2  3  4  5  6  7  8\n",
      "13 14 15 16 17 18 19      10 11 12 13 14 15 16       9 10 11 12 13 14 15\n",
      "20 21 22 23 24 25 26      17 18 19 20 21 22 23      16 17 18 19 20 21 22\n",
      "27 28 29 30 31            24 25 26 27 28 29         23 24 25 26 27 28 29\n",
      "                                                    30 31\n",
      "\n",
      "       April                      May                       June\n",
      "Mo Tu We Th Fr Sa Su      Mo Tu We Th Fr Sa Su      Mo Tu We Th Fr Sa Su\n",
      "       1  2  3  4  5                   1  2  3       1  2  3  4  5  6  7\n",
      " 6  7  8  9 10 11 12       4  5  6  7  8  9 10       8  9 10 11 12 13 14\n",
      "13 14 15 16 17 18 19      11 12 13 14 15 16 17      15 16 17 18 19 20 21\n",
      "20 21 22 23 24 25 26      18 19 20 21 22 23 24      22 23 24 25 26 27 28\n",
      "27 28 29 30               25 26 27 28 29 30 31      29 30\n",
      "\n",
      "        July                     August                  September\n",
      "Mo Tu We Th Fr Sa Su      Mo Tu We Th Fr Sa Su      Mo Tu We Th Fr Sa Su\n",
      "       1  2  3  4  5                      1  2          1  2  3  4  5  6\n",
      " 6  7  8  9 10 11 12       3  4  5  6  7  8  9       7  8  9 10 11 12 13\n",
      "13 14 15 16 17 18 19      10 11 12 13 14 15 16      14 15 16 17 18 19 20\n",
      "20 21 22 23 24 25 26      17 18 19 20 21 22 23      21 22 23 24 25 26 27\n",
      "27 28 29 30 31            24 25 26 27 28 29 30      28 29 30\n",
      "                          31\n",
      "\n",
      "      October                   November                  December\n",
      "Mo Tu We Th Fr Sa Su      Mo Tu We Th Fr Sa Su      Mo Tu We Th Fr Sa Su\n",
      "          1  2  3  4                         1          1  2  3  4  5  6\n",
      " 5  6  7  8  9 10 11       2  3  4  5  6  7  8       7  8  9 10 11 12 13\n",
      "12 13 14 15 16 17 18       9 10 11 12 13 14 15      14 15 16 17 18 19 20\n",
      "19 20 21 22 23 24 25      16 17 18 19 20 21 22      21 22 23 24 25 26 27\n",
      "26 27 28 29 30 31         23 24 25 26 27 28 29      28 29 30 31\n",
      "                          30\n",
      "\n"
     ]
    }
   ],
   "source": [
    "c = calendar.calendar(2020)\n",
    "print(c)"
   ]
  },
  {
   "cell_type": "code",
   "execution_count": 72,
   "metadata": {},
   "outputs": [],
   "source": [
    "e = calendar.TextCalendar()\n",
    "e.firstweekday = calendar.SUNDAY\n",
    "\n"
   ]
  },
  {
   "cell_type": "code",
   "execution_count": 74,
   "metadata": {},
   "outputs": [
    {
     "name": "stdout",
     "output_type": "stream",
     "text": [
      "                                  2020\n",
      "\n",
      "      January                   February                   March\n",
      "Su Mo Tu We Th Fr Sa      Su Mo Tu We Th Fr Sa      Su Mo Tu We Th Fr Sa\n",
      "          1  2  3  4                         1       1  2  3  4  5  6  7\n",
      " 5  6  7  8  9 10 11       2  3  4  5  6  7  8       8  9 10 11 12 13 14\n",
      "12 13 14 15 16 17 18       9 10 11 12 13 14 15      15 16 17 18 19 20 21\n",
      "19 20 21 22 23 24 25      16 17 18 19 20 21 22      22 23 24 25 26 27 28\n",
      "26 27 28 29 30 31         23 24 25 26 27 28 29      29 30 31\n",
      "\n",
      "       April                      May                       June\n",
      "Su Mo Tu We Th Fr Sa      Su Mo Tu We Th Fr Sa      Su Mo Tu We Th Fr Sa\n",
      "          1  2  3  4                      1  2          1  2  3  4  5  6\n",
      " 5  6  7  8  9 10 11       3  4  5  6  7  8  9       7  8  9 10 11 12 13\n",
      "12 13 14 15 16 17 18      10 11 12 13 14 15 16      14 15 16 17 18 19 20\n",
      "19 20 21 22 23 24 25      17 18 19 20 21 22 23      21 22 23 24 25 26 27\n",
      "26 27 28 29 30            24 25 26 27 28 29 30      28 29 30\n",
      "                          31\n",
      "\n",
      "        July                     August                  September\n",
      "Su Mo Tu We Th Fr Sa      Su Mo Tu We Th Fr Sa      Su Mo Tu We Th Fr Sa\n",
      "          1  2  3  4                         1             1  2  3  4  5\n",
      " 5  6  7  8  9 10 11       2  3  4  5  6  7  8       6  7  8  9 10 11 12\n",
      "12 13 14 15 16 17 18       9 10 11 12 13 14 15      13 14 15 16 17 18 19\n",
      "19 20 21 22 23 24 25      16 17 18 19 20 21 22      20 21 22 23 24 25 26\n",
      "26 27 28 29 30 31         23 24 25 26 27 28 29      27 28 29 30\n",
      "                          30 31\n",
      "\n",
      "      October                   November                  December\n",
      "Su Mo Tu We Th Fr Sa      Su Mo Tu We Th Fr Sa      Su Mo Tu We Th Fr Sa\n",
      "             1  2  3       1  2  3  4  5  6  7             1  2  3  4  5\n",
      " 4  5  6  7  8  9 10       8  9 10 11 12 13 14       6  7  8  9 10 11 12\n",
      "11 12 13 14 15 16 17      15 16 17 18 19 20 21      13 14 15 16 17 18 19\n",
      "18 19 20 21 22 23 24      22 23 24 25 26 27 28      20 21 22 23 24 25 26\n",
      "25 26 27 28 29 30 31      29 30                     27 28 29 30 31\n",
      "\n"
     ]
    }
   ],
   "source": [
    "print(e.formatyear(2020))"
   ]
  },
  {
   "cell_type": "code",
   "execution_count": 75,
   "metadata": {},
   "outputs": [
    {
     "name": "stdout",
     "output_type": "stream",
     "text": [
      "   September 2020\n",
      "Su Mo Tu We Th Fr Sa\n",
      "       1  2  3  4  5\n",
      " 6  7  8  9 10 11 12\n",
      "13 14 15 16 17 18 19\n",
      "20 21 22 23 24 25 26\n",
      "27 28 29 30\n",
      "\n"
     ]
    }
   ],
   "source": [
    "print(e.formatmonth(2020,9))"
   ]
  },
  {
   "cell_type": "code",
   "execution_count": 76,
   "metadata": {},
   "outputs": [
    {
     "name": "stdout",
     "output_type": "stream",
     "text": [
      "True\n"
     ]
    }
   ],
   "source": [
    "print(calendar.isleap(2000))"
   ]
  },
  {
   "cell_type": "code",
   "execution_count": 77,
   "metadata": {},
   "outputs": [
    {
     "name": "stdout",
     "output_type": "stream",
     "text": [
      "4\n"
     ]
    }
   ],
   "source": [
    "print(calendar.leapdays(1900, 1920))\n",
    "#  1900 --1920 年闰年的次数  包前不包后"
   ]
  },
  {
   "cell_type": "code",
   "execution_count": 83,
   "metadata": {},
   "outputs": [
    {
     "name": "stdout",
     "output_type": "stream",
     "text": [
      "(1, 30)\n"
     ]
    }
   ],
   "source": [
    "print(calendar.monthrange(2020,9))\n",
    "\n",
    "# 元组参数1 ；  这个月第一天是星期几 0 表示星期日 \n",
    "# 元组参数2：  这个月一共有多少天"
   ]
  },
  {
   "cell_type": "code",
   "execution_count": 79,
   "metadata": {},
   "outputs": [
    {
     "name": "stdout",
     "output_type": "stream",
     "text": [
      "28\n"
     ]
    }
   ],
   "source": [
    "print(calendar.monthlen(2021, 2))\n",
    "# 返回月的天数"
   ]
  },
  {
   "cell_type": "code",
   "execution_count": null,
   "metadata": {},
   "outputs": [],
   "source": []
  }
 ],
 "metadata": {
  "kernelspec": {
   "display_name": "Python 3",
   "language": "python",
   "name": "python3"
  },
  "language_info": {
   "codemirror_mode": {
    "name": "ipython",
    "version": 3
   },
   "file_extension": ".py",
   "mimetype": "text/x-python",
   "name": "python",
   "nbconvert_exporter": "python",
   "pygments_lexer": "ipython3",
   "version": "3.7.4"
  }
 },
 "nbformat": 4,
 "nbformat_minor": 4
}
